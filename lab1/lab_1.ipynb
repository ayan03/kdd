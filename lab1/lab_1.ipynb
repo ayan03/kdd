{
 "cells": [
  {
   "cell_type": "markdown",
   "metadata": {},
   "source": [
    "# Question #1"
   ]
  },
  {
   "cell_type": "markdown",
   "metadata": {},
   "source": [
    "In the state of Hawaii, was there a correlation between babies being named Duke with Duke Kahanamoku's Olympic success?"
   ]
  },
  {
   "cell_type": "markdown",
   "metadata": {},
   "source": [
    "# Extracting Data"
   ]
  },
  {
   "cell_type": "code",
   "execution_count": 4,
   "metadata": {
    "scrolled": true
   },
   "outputs": [
    {
     "name": "stdout",
     "output_type": "stream",
     "text": [
      "              Id  Name  Year Gender State  Count\n",
      "1361811  1361812  Duke  1956      M    HI      6\n",
      "1363495  1363496  Duke  1962      M    HI      5\n",
      "1364015  1364016  Duke  1964      M    HI      7\n",
      "1365639  1365640  Duke  1970      M    HI      5\n",
      "1367610  1367611  Duke  1977      M    HI      5\n",
      "1367812  1367813  Duke  1978      M    HI      8\n",
      "1368196  1368197  Duke  1979      M    HI      5\n",
      "1368524  1368525  Duke  1980      M    HI      5\n",
      "1368831  1368832  Duke  1981      M    HI      5\n",
      "1370845  1370846  Duke  1988      M    HI      7\n",
      "1372071  1372072  Duke  1992      M    HI      7\n",
      "1372453  1372454  Duke  1993      M    HI      5\n",
      "1372749  1372750  Duke  1994      M    HI      5\n",
      "1373871  1373872  Duke  1998      M    HI      8\n",
      "1374245  1374246  Duke  1999      M    HI      5\n",
      "1374449  1374450  Duke  2000      M    HI      8\n",
      "1374787  1374788  Duke  2001      M    HI      6\n",
      "1375007  1375008  Duke  2002      M    HI      9\n",
      "1375246  1375247  Duke  2003      M    HI     15\n",
      "1375595  1375596  Duke  2004      M    HI     10\n",
      "1375962  1375963  Duke  2005      M    HI      7\n",
      "1376223  1376224  Duke  2006      M    HI      9\n",
      "1376546  1376547  Duke  2007      M    HI     10\n",
      "1377299  1377300  Duke  2009      M    HI      5\n",
      "1377789  1377790  Duke  2011      M    HI     11\n",
      "1378198  1378199  Duke  2012      M    HI      7\n",
      "1378422  1378423  Duke  2013      M    HI     14\n",
      "1378900  1378901  Duke  2014      M    HI      6\n"
     ]
    }
   ],
   "source": [
    "%matplotlib inline\n",
    "import pandas as pd\n",
    "import matplotlib.pyplot as plt\n",
    "\n",
    "stateData = pd.read_csv(\"./StateNames.csv\")\n",
    "isNameDuke = stateData[\"Name\"] == \"Duke\"\n",
    "isStateHI = stateData[\"State\"] == \"HI\"\n",
    "dukeData = stateData[isNameDuke & isStateHI]\n",
    "print(dukeData)"
   ]
  },
  {
   "cell_type": "markdown",
   "metadata": {},
   "source": [
    "# Answer the Question"
   ]
  },
  {
   "cell_type": "markdown",
   "metadata": {},
   "source": [
    "No - According to our data, Duke wasn't even a common name until 1956 in Hawaii (nearly 40 years after his first Olympics appearance)! The frequency of the name Duke seemed to spike in 2003, which happened to be the same year that Duke Kahanamoku's semi-biographical movie premiered."
   ]
  },
  {
   "cell_type": "markdown",
   "metadata": {},
   "source": [
    "# Analyze and Visualize"
   ]
  },
  {
   "cell_type": "code",
   "execution_count": 5,
   "metadata": {},
   "outputs": [
    {
     "data": {
      "image/png": "[encoded data removed]",
      "text/plain": [
       "<Figure size 432x288 with 1 Axes>"
      ]
     },
     "metadata": {
      "needs_background": "light"
     },
     "output_type": "display_data"
    }
   ],
   "source": [
    "dukeData.plot(kind=\"scatter\", x=\"Year\", y=\"Count\", color=\"red\")\n",
    "plt.show()"
   ]
  },
  {
   "cell_type": "markdown",
   "metadata": {},
   "source": [
    "# Question 2"
   ]
  },
  {
   "cell_type": "markdown",
   "metadata": {},
   "source": [
    "Is there a difference between the popular names on the West Coast and East Coast?"
   ]
  },
  {
   "cell_type": "markdown",
   "metadata": {},
   "source": [
    "# Extracting Data"
   ]
  },
  {
   "cell_type": "code",
   "execution_count": 24,
   "metadata": {},
   "outputs": [
    {
     "name": "stdout",
     "output_type": "stream",
     "text": [
      "            Id      Name  Year Gender State  Count\n",
      "356017  356018      Mary  1910      F    CA    295\n",
      "356018  356019     Helen  1910      F    CA    239\n",
      "356019  356020   Dorothy  1910      F    CA    220\n",
      "356020  356021  Margaret  1910      F    CA    163\n",
      "356021  356022   Frances  1910      F    CA    134\n",
      "            Id      Name  Year Gender State  Count\n",
      "809705  809706      Mary  1910      F    CT    304\n",
      "809706  809707     Helen  1910      F    CT    170\n",
      "809707  809708      Anna  1910      F    CT    131\n",
      "809708  809709  Margaret  1910      F    CT     99\n",
      "809709  809710   Dorothy  1910      F    CT     90\n"
     ]
    }
   ],
   "source": [
    "# We already have stateData extracted from earlier, so we'll reuse this dataframe.\n",
    "stateData = pd.read_csv(\"./StateNames.csv\")\n",
    "isStateCA = stateData[\"State\"] == \"CA\"\n",
    "isStateOR = stateData[\"State\"] == \"OR\"\n",
    "isStateWA = stateData[\"State\"] == \"WA\"\n",
    "\n",
    "isStateME = stateData[\"State\"] == \"ME\"\n",
    "isStateNH = stateData[\"State\"] == \"NH\"\n",
    "isStateMA = stateData[\"State\"] == \"MA\"\n",
    "isStateRI = stateData[\"State\"] == \"RI\"\n",
    "isStateCT = stateData[\"State\"] == \"CT\"\n",
    "isStateNY = stateData[\"State\"] == \"NY\"\n",
    "isStateNJ = stateData[\"State\"] == \"NJ\"\n",
    "isStateDE = stateData[\"State\"] == \"DE\"\n",
    "isStateMD = stateData[\"State\"] == \"MD\"\n",
    "isStateVA = stateData[\"State\"] == \"VA\"\n",
    "isStateNC = stateData[\"State\"] == \"NC\"\n",
    "isStateSC = stateData[\"State\"] == \"SC\"\n",
    "isStateGA = stateData[\"State\"] == \"GA\"\n",
    "isStateFL = stateData[\"State\"] == \"FL\"\n",
    "\n",
    "westCoastData = stateData[isStateOR | isStateCA | isStateWA]\n",
    "eastCoastData = stateData[isStateME | isStateNH | isStateMA |isStateRI | isStateCT | isStateNY | isStateNJ | \\\n",
    "                          isStateDE | isStateMD | isStateVA | isStateNC | isStateSC | isStateGA | isStateFL]\n",
    "westCoastData.sort_values(by=\"Count\")\n",
    "eastCoastData.sort_values(by=\"Count\")\n",
    "print(westCoastData.head(5))\n",
    "print(eastCoastData.head(5))"
   ]
  },
  {
   "cell_type": "markdown",
   "metadata": {},
   "source": [
    "# Answer the Question"
   ]
  },
  {
   "cell_type": "markdown",
   "metadata": {},
   "source": [
    "There were a few similarities between common names on the west coast and east coast. Both coasts had the same top two names (Mary and Helen), and also shared Margaret and Dorothy as top five most popular names."
   ]
  },
  {
   "cell_type": "markdown",
   "metadata": {},
   "source": [
    "# Analyze and Visualize"
   ]
  },
  {
   "cell_type": "code",
   "execution_count": 29,
   "metadata": {},
   "outputs": [
    {
     "data": {
      "image/png": "[encoded data removed]",
      "text/plain": [
       "<Figure size 432x288 with 1 Axes>"
      ]
     },
     "metadata": {
      "needs_background": "light"
     },
     "output_type": "display_data"
    },
    {
     "data": {
      "image/png": "[encoded data removed]",
      "text/plain": [
       "<Figure size 432x288 with 1 Axes>"
      ]
     },
     "metadata": {
      "needs_background": "light"
     },
     "output_type": "display_data"
    }
   ],
   "source": [
    "westCoastData.head(5).plot(kind=\"bar\", x=\"Name\", y=\"Count\")\n",
    "eastCoastData.head(5).plot(kind=\"bar\", x=\"Name\", y=\"Count\")\n",
    "plt.show()"
   ]
  },
  {
   "cell_type": "markdown",
   "metadata": {},
   "source": [
    "# Question #3"
   ]
  },
  {
   "cell_type": "markdown",
   "metadata": {},
   "source": [
    " Did WWII impact how Americans named their male babies? If so: what did it look like?"
   ]
  },
  {
   "cell_type": "markdown",
   "metadata": {},
   "source": [
    "# Extracting Data"
   ]
  },
  {
   "cell_type": "code",
   "execution_count": 42,
   "metadata": {
    "scrolled": true
   },
   "outputs": [
    {
     "name": "stdout",
     "output_type": "stream",
     "text": [
      "            Id     Name  Year Gender  Count\n",
      "317267  317268   Robert  1934      M  55826\n",
      "317268  317269    James  1934      M  54236\n",
      "317269  317270     John  1934      M  46736\n",
      "317270  317271  William  1934      M  40157\n",
      "317271  317272  Richard  1934      M  33152\n",
      "            Id     Name  Year Gender  Count\n",
      "362328  362329   Robert  1939      M  59640\n",
      "362329  362330    James  1939      M  59627\n",
      "362330  362331     John  1939      M  51021\n",
      "362331  362332  William  1939      M  42074\n",
      "362332  362333  Richard  1939      M  35367\n"
     ]
    }
   ],
   "source": [
    "nationalData = pd.read_csv(\"./NationalNames.csv\")\n",
    "isPreWarStart = nationalData[\"Year\"] >= 1934\n",
    "isPreWarEnd = nationalData[\"Year\"] < 1939\n",
    "isDuringWarStart = nationalData[\"Year\"] >= 1939\n",
    "isDuringWarEnd = nationalData[\"Year\"] <= 1945\n",
    "isMale = nationalData[\"Gender\"] == \"M\"\n",
    "\n",
    "preWarData = (nationalData[isPreWarStart & isPreWarEnd & isMale])\n",
    "duringWarData = (nationalData[isDuringWarStart & isDuringWarEnd & isMale])\n",
    "preWarData.sort_values(by=\"Count\")\n",
    "duringWarData.sort_values(by=\"Count\")\n",
    "print(preWarData.head(5))\n",
    "print(duringWarData.head(5))"
   ]
  },
  {
   "cell_type": "markdown",
   "metadata": {},
   "source": [
    "# Answer the Question"
   ]
  },
  {
   "cell_type": "markdown",
   "metadata": {},
   "source": [
    "Nope - They stayed "
   ]
  }
 ],
 "metadata": {
  "kernelspec": {
   "display_name": "Python 3",
   "language": "python",
   "name": "python3"
  },
  "language_info": {
   "codemirror_mode": {
    "name": "ipython",
    "version": 2
   },
   "file_extension": ".py",
   "mimetype": "text/x-python",
   "name": "python",
   "nbconvert_exporter": "python",
   "pygments_lexer": "ipython2",
   "version": "2.7.10"
  }
 },
 "nbformat": 4,
 "nbformat_minor": 2
}
